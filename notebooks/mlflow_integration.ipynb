{
 "cells": [
  {
   "cell_type": "code",
   "execution_count": null,
   "metadata": {},
   "outputs": [],
   "source": [
    "from src.loader import NewsDataLoader\n",
    "import mlflow\n",
    "\n",
    "data_directory = \"../data\"\n",
    "loader = NewsDataLoader(data_directory)\n",
    "merge_df = loader.load_data()\n"
   ]
  }
 ],
 "metadata": {
  "language_info": {
   "name": "python"
  }
 },
 "nbformat": 4,
 "nbformat_minor": 2
}
