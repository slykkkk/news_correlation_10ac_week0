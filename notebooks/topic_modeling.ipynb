{
 "cells": [
  {
   "cell_type": "code",
   "execution_count": null,
   "metadata": {},
   "outputs": [],
   "source": [
    "import pandas as pd\n",
    "from nltk.corpus import stopwords\n",
    "from nltk.tokenize import word_tokenize\n",
    "from nltk.stem import PorterStemmer\n",
    "from sklearn.feature_extraction.text import TfidfVectorizer\n",
    "from sklearn.decomposition import LatentDirichletAllocation\n",
    "import matplotlib.pyplot as plt"
   ]
  },
  {
   "cell_type": "code",
   "execution_count": null,
   "metadata": {},
   "outputs": [],
   "source": [
    "rpath = os.path.abspath('..')\n",
    "if rpath not in sys.path:\n",
    "    sys.path.insert(0, rpath)\n",
    "\n",
    "from src.loader import NewsDataLoader\n",
    "\n",
    "if __name__ == \"__main__\":\n",
    "    data_directory = \"../data\"\n",
    "    loader = NewsDataLoader(data_directory)\n",
    "\n",
    "    merge_df = loader.load_data()"
   ]
  },
  {
   "cell_type": "code",
   "execution_count": null,
   "metadata": {},
   "outputs": [],
   "source": [
    "import re\n",
    "\n",
    "\n",
    "stop_words = set(stopwords.words('english'))\n",
    "ps = PorterStemmer()\n",
    "\n",
    "def preprocess_text(text):\n",
    "    text = text.lower()\n",
    "    text = re.sub(r'[^a-zA-Z0-9\\s]', '', text)\n",
    "    tokens = word_tokenize(text)\n",
    "    filtered_tokens = [ps.stem(word) for word in tokens if word not in stop_words]\n",
    "    preprocessed_text = ' '.join(filtered_tokens)\n",
    "    return preprocessed_text\n",
    "\n",
    "merge_df['preprocessed_content'] = merge_df['content'].apply(preprocess_text)\n",
    "\n",
    "# Topic Modeling\n",
    "vectorizer = TfidfVectorizer(stop_words='english')\n",
    "tfidf_matrix = vectorizer.fit_transform(merge_df['preprocessed_content'])\n",
    "\n",
    "lda_model = LatentDirichletAllocation(n_components=10, random_state=42)\n",
    "lda_model.fit(tfidf_matrix)\n",
    "\n",
    "#  Analyzing Topic Diversity\n",
    "topic_counts = merge_df.groupby('source_name')['topic'].nunique()\n",
    "\n",
    "# Analyze Topic Trends\n",
    "# Plot 2D scatter plot\n",
    "\n",
    "# Example code for plotting\n",
    "plt.scatter(merge_df['published_at'], merge_df['topic'], c=merge_df['topic_count'], cmap='viridis')\n",
    "plt.xlabel('Date')\n",
    "plt.ylabel('Topics')\n",
    "plt.title('Topic Trends Over Time')\n",
    "plt.colorbar(label='Count')\n",
    "plt.show()"
   ]
  }
 ],
 "metadata": {
  "language_info": {
   "name": "python"
  }
 },
 "nbformat": 4,
 "nbformat_minor": 2
}
