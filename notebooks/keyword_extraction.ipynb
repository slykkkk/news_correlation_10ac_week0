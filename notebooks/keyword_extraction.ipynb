{
 "cells": [
  {
   "cell_type": "code",
   "execution_count": null,
   "metadata": {},
   "outputs": [],
   "source": [
    "import pandas as pd\n",
    "from keybert import KeyBERT\n",
    "import matplotlib.pyplot as plt\n",
    "from collections import Counter"
   ]
  },
  {
   "cell_type": "code",
   "execution_count": null,
   "metadata": {},
   "outputs": [],
   "source": [
    "rpath = os.path.abspath('..')\n",
    "if rpath not in sys.path:\n",
    "    sys.path.insert(0, rpath)\n",
    "\n",
    "from src.loader import NewsDataLoader\n",
    "\n",
    "if __name__ == \"__main__\":\n",
    "    data_directory = \"../data\"\n",
    "    loader = NewsDataLoader(data_directory)\n",
    "\n",
    "    merge_df = loader.load_data()"
   ]
  },
  {
   "cell_type": "code",
   "execution_count": null,
   "metadata": {},
   "outputs": [],
   "source": [
    "model = KeyBERT('distilbert-base-nli-mean-tokens')\n",
    "\n",
    "def extract_keywords(text):\n",
    "    return model.extract_keywords(text, keyphrase_ngram_range=(1, 1), stop_words='english', top_n=5)\n",
    "\n",
    "merge_df['title_keywords'] = merge_df['title'].apply(extract_keywords)\n",
    "merge_df['content_keywords'] = merge_df['content'].apply(extract_keywords)\n",
    "\n",
    "all_title_keywords = [keyword for keywords in merge_df['title_keywords'] for keyword in keywords]\n",
    "all_content_keywords = [keyword for keywords in merge_df['content_keywords'] for keyword in keywords]\n",
    "\n",
    "title_keyword_counts = Counter(all_title_keywords)\n",
    "content_keyword_counts = Counter(all_content_keywords)\n",
    "\n",
    "sorted_title_keywords = sorted(title_keyword_counts.items(), key=lambda x: x[1], reverse=True)\n",
    "sorted_content_keywords = sorted(content_keyword_counts.items(), key=lambda x: x[1], reverse=True)\n",
    "\n",
    "# Plot the top 10 keywords extracted from titles\n",
    "plt.figure(figsize=(10, 5))\n",
    "plt.bar(*zip(*sorted_title_keywords[:10]))\n",
    "plt.xlabel('Keyword')\n",
    "plt.ylabel('Frequency')\n",
    "plt.title('Top 10 Keywords Extracted from Titles')\n",
    "plt.xticks(rotation=45)\n",
    "plt.show()\n",
    "\n",
    "# Plot the top 10 keywords extracted from content\n",
    "plt.figure(figsize=(10, 5))\n",
    "plt.bar(*zip(*sorted_content_keywords[:10]))\n",
    "plt.xlabel('Keyword')\n",
    "plt.ylabel('Frequency')\n",
    "plt.title('Top 10 Keywords Extracted from Content')\n",
    "plt.xticks(rotation=45)\n",
    "plt.show()"
   ]
  }
 ],
 "metadata": {
  "language_info": {
   "name": "python"
  }
 },
 "nbformat": 4,
 "nbformat_minor": 2
}
